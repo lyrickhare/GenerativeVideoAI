{
 "cells": [
  {
   "cell_type": "code",
   "execution_count": null,
   "metadata": {},
   "outputs": [],
   "source": [
    "from gtts import gTTS\n",
    "  \n",
    "# This module is imported so that we can \n",
    "# play the converted audio\n",
    "import os\n",
    "  \n",
    "# The text that you want to convert to audio\n",
    "mytext = 'Welcome to geeksforgeeks!'\n",
    "  \n",
    "# Language in which you want to convert\n",
    "language = 'en'\n",
    "  \n",
    "# Passing the text and language to the engine, \n",
    "# here we have marked slow=False. Which tells \n",
    "# the module that the converted audio should \n",
    "# have a high speed\n",
    "myobj = gTTS(text=mytext, lang=language, slow=False)\n",
    "  \n",
    "# Saving the converted audio in a mp3 file named\n",
    "# welcome \n",
    "myobj.save(\"welcome.mp3\")\n",
    "  \n",
    "# Playing the converted file\n",
    "os.system(\"mpg321 welcome.mp3\")"
   ]
  },
  {
   "cell_type": "code",
   "execution_count": null,
   "metadata": {},
   "outputs": [],
   "source": [
    "from moviepy.editor import VideoFileClip, concatenate_videoclips\n",
    "clip1 = VideoFileClip(\"video.mp4\")\n",
    "clip2 = VideoFileClip(\"video2.mp4\").subclip(50,60)\n",
    "clip3 = VideoFileClip(\"video3.mp4\")\n",
    "final_clip = concatenate_videoclips([clip1,clip2,clip3])\n",
    "final_clip.write_videofile(\"my_concatenation.mp4\")"
   ]
  },
  {
   "cell_type": "code",
   "execution_count": null,
   "metadata": {},
   "outputs": [],
   "source": [
    "from moviepy.editor import *\n",
    "# Import the audio(Insert to location of your audio instead of audioClip.mp3)\n",
    "audio = AudioFileClip(\"audio.mp3\")\n",
    "# Import the Image and set its duration same as the audio (Insert the location of your photo instead of photo.jpg)\n",
    "clip = ImageClip(\"image.jpg\").set_duration(audio.duration)\n",
    "# Set the audio of the clip\n",
    "clip = clip.set_audio(audio)\n",
    "# Export the clip\n",
    "clip.write_videofile(\"video.mp4\", fps=24)"
   ]
  }
 ],
 "metadata": {
  "language_info": {
   "name": "python"
  },
  "orig_nbformat": 4
 },
 "nbformat": 4,
 "nbformat_minor": 2
}
